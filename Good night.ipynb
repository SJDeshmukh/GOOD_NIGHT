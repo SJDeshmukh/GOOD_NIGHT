{
 "cells": [
  {
   "cell_type": "code",
   "execution_count": null,
   "id": "fb7c8fb5",
   "metadata": {},
   "outputs": [],
   "source": [
    "import turtle\n",
    "import random\n",
    "t=turtle.Turtle()\n",
    "t.getscreen().bgcolor('black')\n",
    "moon=turtle.Turtle()\n",
    "moon.hideturtle()\n",
    "star=turtle.Turtle()\n",
    "star.hideturtle()\n",
    "text=turtle.Turtle()\n",
    "text.hideturtle()\n",
    "t.speed(0)\n",
    "moon.speed(3)\n",
    "star.speed(0)\n",
    "text.speed(0)\n",
    "colors=['white','gold','silver','yellow']\n",
    "def draw_moon(pos,color):\n",
    "    moon.color(color)\n",
    "    moon.penup()\n",
    "    moon.begin_fill()\n",
    "    moon.goto(pos)\n",
    "    moon.pendown()\n",
    "    moon.circle(50)\n",
    "    moon.end_fill()\n",
    "def draw_star(pos,color,length):\n",
    "    star.color(color)\n",
    "    star.penup()\n",
    "    star.goto(pos)\n",
    "    star.pendown()\n",
    "    star.begin_fill()\n",
    "    for i in range(10):\n",
    "        star.forward(length)\n",
    "        star.right(144)\n",
    "    star.end_fill()\n",
    "def write_text(color):\n",
    "    text.color(color)\n",
    "    text.penup()\n",
    "    text.goto(-100,-390)\n",
    "    text.pendown()\n",
    "    style=('Stencil Std Bold',50,'bold')\n",
    "    text.write('Good Night',font=style,move=True)\n",
    "def random_pos():\n",
    "    return (random.randint(-550,600),random.randint(-210,290))\n",
    "def return_length():\n",
    "    return (random.randint(5,20))\n",
    "\n",
    "draw_moon((-600,170),'white')\n",
    "draw_moon((-590,190),'black')\n",
    "while True:\n",
    "    color=random.choice(colors)\n",
    "    pos=random_pos()\n",
    "    length=return_length()\n",
    "    draw_star(pos,color,length)\n",
    "    write_text(color)\n",
    "turtle.done()"
   ]
  },
  {
   "cell_type": "code",
   "execution_count": null,
   "id": "7b1ece6d",
   "metadata": {},
   "outputs": [],
   "source": [
    "import turtle\n",
    "  \n",
    "t=turtle.Turtle()\n",
    "# set the background color\n",
    "# of the turtle screen\n",
    "turtle.Screen().bgcolor(\"orange\")\n",
    "  \n",
    "# move turtle\n",
    "t.forward(100)\n",
    "turtle.done()"
   ]
  },
  {
   "cell_type": "code",
   "execution_count": null,
   "id": "826ed161",
   "metadata": {},
   "outputs": [],
   "source": []
  }
 ],
 "metadata": {
  "kernelspec": {
   "display_name": "Python 3",
   "language": "python",
   "name": "python3"
  },
  "language_info": {
   "codemirror_mode": {
    "name": "ipython",
    "version": 3
   },
   "file_extension": ".py",
   "mimetype": "text/x-python",
   "name": "python",
   "nbconvert_exporter": "python",
   "pygments_lexer": "ipython3",
   "version": "3.8.8"
  }
 },
 "nbformat": 4,
 "nbformat_minor": 5
}
